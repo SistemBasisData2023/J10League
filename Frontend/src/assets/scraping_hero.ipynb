{
 "cells": [
  {
   "cell_type": "code",
   "execution_count": 8,
   "metadata": {},
   "outputs": [],
   "source": [
    "from selenium import webdriver\n",
    "from selenium.webdriver.common.keys import Keys\n",
    "from selenium.webdriver.common.by import By\n",
    "from selenium.common.exceptions import NoSuchElementException\n",
    "from selenium.webdriver.common.action_chains import ActionChains\n",
    "\n",
    "import os\n",
    "import requests\n",
    "\n",
    "url = \"https://liquipedia.net/mobilelegends/Portal:Heroes\"\n",
    "path = r\"C:\\Users\\Arka Brian\\Documents\\Arka\\Kuliah\\UI\\Semester 4 - HELL ON EARTH\\Sistem Basis Data\\ALL ABOUT FINAL PROJECT\\2nd clone\\J10League\\Frontend\\src\\assets\\chromedriver.exe\"\n",
    "\n",
    "browser_driver = webdriver.Chrome(executable_path=path)"
   ]
  },
  {
   "cell_type": "code",
   "execution_count": 7,
   "metadata": {},
   "outputs": [],
   "source": [
    "if not os.path.exists(\"foto_hero\"):\n",
    "    os.makedirs(\"foto_hero\")"
   ]
  },
  {
   "cell_type": "code",
   "execution_count": 9,
   "metadata": {},
   "outputs": [],
   "source": [
    "browser_driver.get(url)\n",
    "\n",
    "image_elements = browser_driver.find_elements_by_tag_name('img')\n",
    "\n",
    "for index, image in enumerate(image_elements):\n",
    "    if index > 1:\n",
    "        image_url = image.get_attribute('src')\n",
    "        image_name = image_url.split('/')[-1]\n",
    "        image_path = os.path.join(\"foto_hero\", image_name)\n",
    "        with open(image_path, 'wb') as image_file:\n",
    "            image_file.write(requests.get(image_url).content)\n",
    "\n",
    "browser_driver.close()"
   ]
  }
 ],
 "metadata": {
  "kernelspec": {
   "display_name": "base",
   "language": "python",
   "name": "python3"
  },
  "language_info": {
   "codemirror_mode": {
    "name": "ipython",
    "version": 3
   },
   "file_extension": ".py",
   "mimetype": "text/x-python",
   "name": "python",
   "nbconvert_exporter": "python",
   "pygments_lexer": "ipython3",
   "version": "3.10.2"
  },
  "orig_nbformat": 4
 },
 "nbformat": 4,
 "nbformat_minor": 2
}
